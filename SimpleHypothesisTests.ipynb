{
 "cells": [
  {
   "cell_type": "code",
   "execution_count": 1,
   "metadata": {},
   "outputs": [
    {
     "data": {
      "text/plain": [
       "array([-13.60586994])"
      ]
     },
     "execution_count": 1,
     "metadata": {},
     "output_type": "execute_result"
    }
   ],
   "source": [
    "import  pyhf\n",
    "\n",
    "model = pyhf.simplemodels.hepdata_like([5,10],[50,30],[2,3])\n",
    "data = [55,33] + model.config.auxdata\n",
    "parameters = [1.0,1.0,1.0] # nominal parameters\n",
    "\n",
    "model.logpdf(parameters,data) # evaluate log likelihood"
   ]
  },
  {
   "cell_type": "code",
   "execution_count": 2,
   "metadata": {},
   "outputs": [
    {
     "data": {
      "text/plain": [
       "array([0.41202114, 1.00420257, 0.99222999])"
      ]
     },
     "execution_count": 2,
     "metadata": {},
     "output_type": "execute_result"
    }
   ],
   "source": [
    "bestfit_pars = pyhf.optimizer.unconstrained_bestfit(\n",
    "    pyhf.utils.loglambdav, # -2*logL\n",
    "    data,\n",
    "    model,\n",
    "    model.config.suggested_init(),\n",
    "    model.config.suggested_bounds(),    \n",
    ")\n",
    "bestfit_pars"
   ]
  },
  {
   "cell_type": "code",
   "execution_count": 3,
   "metadata": {},
   "outputs": [
    {
     "data": {
      "text/plain": [
       "array([-13.04446523])"
      ]
     },
     "execution_count": 3,
     "metadata": {},
     "output_type": "execute_result"
    }
   ],
   "source": [
    " #we've maximized the loglikelihood (or minimized the neg. log likelihood)\n",
    "model.logpdf(bestfit_pars,data)"
   ]
  },
  {
   "cell_type": "code",
   "execution_count": 4,
   "metadata": {},
   "outputs": [
    {
     "data": {
      "text/plain": [
       "array([0.22800433])"
      ]
     },
     "execution_count": 4,
     "metadata": {},
     "output_type": "execute_result"
    }
   ],
   "source": [
    "cls = pyhf.utils.hypotest(1.0,data,model)\n",
    "cls"
   ]
  },
  {
   "cell_type": "code",
   "execution_count": 5,
   "metadata": {},
   "outputs": [
    {
     "data": {
      "text/plain": [
       "(array([0.22800433]), array([0.10248917]))"
      ]
     },
     "execution_count": 5,
     "metadata": {},
     "output_type": "execute_result"
    }
   ],
   "source": [
    "cls_obs, cls_exp = pyhf.utils.hypotest(1.0,data,model, return_expected = True)\n",
    "cls_obs, cls_exp"
   ]
  },
  {
   "cell_type": "code",
   "execution_count": null,
   "metadata": {},
   "outputs": [],
   "source": []
  }
 ],
 "metadata": {
  "kernelspec": {
   "display_name": "Python 3",
   "language": "python",
   "name": "python3"
  },
  "language_info": {
   "codemirror_mode": {
    "name": "ipython",
    "version": 3
   },
   "file_extension": ".py",
   "mimetype": "text/x-python",
   "name": "python",
   "nbconvert_exporter": "python",
   "pygments_lexer": "ipython3",
   "version": "3.7.3"
  }
 },
 "nbformat": 4,
 "nbformat_minor": 2
}
