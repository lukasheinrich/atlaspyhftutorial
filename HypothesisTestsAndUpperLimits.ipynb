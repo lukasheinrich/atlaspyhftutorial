{
 "cells": [
  {
   "cell_type": "code",
   "execution_count": 1,
   "metadata": {},
   "outputs": [
    {
     "data": {
      "text/plain": [
       "array([-13.60586994])"
      ]
     },
     "execution_count": 1,
     "metadata": {},
     "output_type": "execute_result"
    }
   ],
   "source": [
    "import  pyhf\n",
    "\n",
    "model = pyhf.simplemodels.hepdata_like([5,10],[50,30],[2,3])\n",
    "data = [55,33] + model.config.auxdata\n",
    "parameters = [1.0,1.0,1.0] # nominal parameters\n",
    "\n",
    "model.logpdf(parameters,data) # evaluate log likelihood"
   ]
  },
  {
   "cell_type": "code",
   "execution_count": 2,
   "metadata": {},
   "outputs": [
    {
     "data": {
      "text/plain": [
       "(array([0.22800433]), array([[0.00615929],\n",
       "        [0.02667994],\n",
       "        [0.10248917],\n",
       "        [0.31306803],\n",
       "        [0.65820041]]))"
      ]
     },
     "execution_count": 2,
     "metadata": {},
     "output_type": "execute_result"
    }
   ],
   "source": [
    "cls_obs, cls_exp = pyhf.utils.hypotest(1.0,data,model, return_expected_set = True)\n",
    "cls_obs, cls_exp"
   ]
  },
  {
   "cell_type": "code",
   "execution_count": 83,
   "metadata": {},
   "outputs": [
    {
     "name": "stdout",
     "output_type": "stream",
     "text": [
      "Upper Limit (obs): µ = 1.55\n",
      "Upper Limit (exp): µ = 1.22\n"
     ]
    }
   ],
   "source": [
    "import numpy as np\n",
    "results = []\n",
    "poivals = np.linspace(0,5)\n",
    "for mu in poivals:\n",
    "    cls_obs, cls_exp = pyhf.utils.hypotest(mu,data,model, return_expected_set = True)\n",
    "    results.append([ cls_obs[0] ] + [x[0] for x in cls_exp])\n",
    "    \n",
    "results = np.asarray(results)\n",
    "print('Upper Limit (obs): µ = {:0.3}'.format(np.interp(0.05,results[:,0][::-1],poivals[::-1])))\n",
    "print('Upper Limit (exp): µ = {:0.3}'.format(np.interp(0.05,results[:,3][::-1],poivals[::-1])))"
   ]
  },
  {
   "cell_type": "code",
   "execution_count": 84,
   "metadata": {},
   "outputs": [
    {
     "data": {
      "text/plain": [
       "<matplotlib.collections.LineCollection at 0x7f03117c1ac8>"
      ]
     },
     "execution_count": 84,
     "metadata": {},
     "output_type": "execute_result"
    },
    {
     "data": {
      "image/png": "[encoded data removed]",
      "text/plain": [
       "<Figure size 432x288 with 1 Axes>"
      ]
     },
     "metadata": {
      "needs_background": "light"
     },
     "output_type": "display_data"
    }
   ],
   "source": [
    "import matplotlib.pyplot as plt\n",
    "%matplotlib inline\n",
    "plt.plot(poivals,results[:,0], c = 'black')\n",
    "plt.plot(poivals,results[:,[1,-1]], linestyle = 'dotted', c = 'black')\n",
    "plt.plot(poivals,results[:,[2,-2]], linestyle = 'dotted', c = 'black')\n",
    "plt.plot(poivals,results[:,3], linestyle = 'dashed', c = 'black')\n",
    "plt.fill_between(poivals,results[:,1],results[:,-1], color = 'yellow')\n",
    "plt.fill_between(poivals,results[:,2],results[:,-2], color = 'green')\n",
    "plt.hlines(0.05,0,5, color = 'r')"
   ]
  },
  {
   "cell_type": "code",
   "execution_count": 77,
   "metadata": {},
   "outputs": [
    {
     "data": {
      "text/plain": [
       "0.10204081632653061"
      ]
     },
     "execution_count": 77,
     "metadata": {},
     "output_type": "execute_result"
    }
   ],
   "source": []
  },
  {
   "cell_type": "code",
   "execution_count": null,
   "metadata": {},
   "outputs": [],
   "source": []
  }
 ],
 "metadata": {
  "kernelspec": {
   "display_name": "Python 3",
   "language": "python",
   "name": "python3"
  },
  "language_info": {
   "codemirror_mode": {
    "name": "ipython",
    "version": 3
   },
   "file_extension": ".py",
   "mimetype": "text/x-python",
   "name": "python",
   "nbconvert_exporter": "python",
   "pygments_lexer": "ipython3",
   "version": "3.7.3"
  }
 },
 "nbformat": 4,
 "nbformat_minor": 2
}
