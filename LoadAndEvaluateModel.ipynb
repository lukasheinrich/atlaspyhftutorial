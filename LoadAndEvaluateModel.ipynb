{
 "cells": [
  {
   "cell_type": "code",
   "execution_count": 2,
   "metadata": {},
   "outputs": [],
   "source": [
    "import pyhf\n",
    "import json\n",
    "import matplotlib.pyplot as plt\n",
    "%matplotlib inline"
   ]
  },
  {
   "cell_type": "code",
   "execution_count": 11,
   "metadata": {},
   "outputs": [
    {
     "name": "stdout",
     "output_type": "stream",
     "text": [
      "             Summary       \n",
      "       ------------------  \n",
      "          channels  1\n",
      "           samples  3\n",
      "        parameters  6\n",
      "         modifiers  6\n",
      "\n",
      "          channels  nbins\n",
      "        ----------  -----\n",
      "          channel1    2  \n",
      "\n",
      "           samples\n",
      "        ----------\n",
      "       background1\n",
      "       background2\n",
      "            signal\n",
      "\n",
      "        parameters  constraint              modifiers\n",
      "        ----------  ----------              ----------\n",
      "     SigXsecOverSM  unconstrained           normfactor\n",
      "              lumi  constrained_by_normal   lumi\n",
      "staterror_channel1  constrained_by_normal   staterror\n",
      "             syst1  constrained_by_normal   normsys\n",
      "             syst2  constrained_by_normal   normsys\n",
      "             syst3  constrained_by_normal   normsys\n",
      "\n",
      "       measurement           poi            parameters\n",
      "        ----------        ----------        ----------\n",
      "          (*) meas      SigXsecOverSM       lumi,alpha_syst1\n",
      "\n"
     ]
    }
   ],
   "source": [
    "!pyhf inspect example_workspace.json"
   ]
  },
  {
   "cell_type": "code",
   "execution_count": 4,
   "metadata": {},
   "outputs": [
    {
     "data": {
      "text/plain": [
       "{'channels': [{'name': 'channel1',\n",
       "   'samples': [{'data': [10.0, 5.0],\n",
       "     'modifiers': [{'data': None, 'name': 'lumi', 'type': 'lumi'},\n",
       "      {'data': {'hi': 1.05, 'lo': 0.95}, 'name': 'syst1', 'type': 'normsys'},\n",
       "      {'data': None, 'name': 'SigXsecOverSM', 'type': 'normfactor'}],\n",
       "     'name': 'signal'},\n",
       "    {'data': [10.0, 70.0],\n",
       "     'modifiers': [{'data': None, 'name': 'lumi', 'type': 'lumi'},\n",
       "      {'data': {'hi': 1.05, 'lo': 0.95}, 'name': 'syst2', 'type': 'normsys'}],\n",
       "     'name': 'background1'},\n",
       "    {'data': [40.0, 30.0],\n",
       "     'modifiers': [{'data': None, 'name': 'lumi', 'type': 'lumi'},\n",
       "      {'data': [6.324555320336759, 5.477225575051661],\n",
       "       'name': 'staterror_channel1',\n",
       "       'type': 'staterror'},\n",
       "      {'data': {'hi': 1.05, 'lo': 0.95}, 'name': 'syst3', 'type': 'normsys'}],\n",
       "     'name': 'background2'}]}],\n",
       " 'measurements': [{'config': {'parameters': [{'auxdata': [1.0],\n",
       "      'bounds': [[0.5, 1.5]],\n",
       "      'fixed': True,\n",
       "      'inits': [1.0],\n",
       "      'name': 'lumi',\n",
       "      'sigmas': [0.1]},\n",
       "     {'fixed': True, 'name': 'alpha_syst1'}],\n",
       "    'poi': 'SigXsecOverSM'},\n",
       "   'name': 'meas'}],\n",
       " 'observations': [{'data': [50.0, 100.0], 'name': 'channel1'}],\n",
       " 'version': '1.0.0'}"
      ]
     },
     "execution_count": 4,
     "metadata": {},
     "output_type": "execute_result"
    }
   ],
   "source": [
    "w = json.load(open('./example_workspace.json'))\n",
    "w"
   ]
  },
  {
   "cell_type": "code",
   "execution_count": 7,
   "metadata": {},
   "outputs": [
    {
     "data": {
      "text/plain": [
       "<pyhf.pdf.Workspace at 0x7f69b98d3470>"
      ]
     },
     "execution_count": 7,
     "metadata": {},
     "output_type": "execute_result"
    }
   ],
   "source": [
    "ws = pyhf.Workspace(w)\n",
    "ws"
   ]
  },
  {
   "cell_type": "code",
   "execution_count": 10,
   "metadata": {},
   "outputs": [
    {
     "data": {
      "text/plain": [
       "<pyhf.pdf.Model at 0x7f69b9866198>"
      ]
     },
     "execution_count": 10,
     "metadata": {},
     "output_type": "execute_result"
    }
   ],
   "source": [
    "model = ws.model()\n",
    "model"
   ]
  },
  {
   "cell_type": "code",
   "execution_count": 14,
   "metadata": {},
   "outputs": [
    {
     "data": {
      "text/plain": [
       "[1.0, 0.0, 1.0, 0.0, 1.0, 1.0, 0.0]"
      ]
     },
     "execution_count": 14,
     "metadata": {},
     "output_type": "execute_result"
    }
   ],
   "source": [
    "parameters = model.config.suggested_init()\n",
    "parameters"
   ]
  },
  {
   "cell_type": "code",
   "execution_count": 23,
   "metadata": {},
   "outputs": [
    {
     "name": "stdout",
     "output_type": "stream",
     "text": [
      "[ 60. 105.   1.   1.   1.   0.   0.   0.]\n",
      "[-5.88021974]\n"
     ]
    }
   ],
   "source": [
    "expected_data = model.expected_data(parameters)\n",
    "print(expected_data)\n",
    "\n",
    "log_pdfvalue = model.logpdf(parameters,expected_data)\n",
    "print(log_pdfvalue)"
   ]
  },
  {
   "cell_type": "code",
   "execution_count": 25,
   "metadata": {},
   "outputs": [
    {
     "data": {
      "text/plain": [
       "[50.0, 100.0, 1.0, 1.0, 1.0, 0.0, 0.0, 0.0]"
      ]
     },
     "execution_count": 25,
     "metadata": {},
     "output_type": "execute_result"
    }
   ],
   "source": [
    "observed = ws.data(model)\n",
    "observed"
   ]
  },
  {
   "cell_type": "code",
   "execution_count": 26,
   "metadata": {},
   "outputs": [
    {
     "data": {
      "text/plain": [
       "array([-6.76988707])"
      ]
     },
     "execution_count": 26,
     "metadata": {},
     "output_type": "execute_result"
    }
   ],
   "source": [
    "model.logpdf(parameters,observed)"
   ]
  },
  {
   "cell_type": "code",
   "execution_count": null,
   "metadata": {},
   "outputs": [],
   "source": []
  }
 ],
 "metadata": {
  "kernelspec": {
   "display_name": "Python 3",
   "language": "python",
   "name": "python3"
  },
  "language_info": {
   "codemirror_mode": {
    "name": "ipython",
    "version": 3
   },
   "file_extension": ".py",
   "mimetype": "text/x-python",
   "name": "python",
   "nbconvert_exporter": "python",
   "pygments_lexer": "ipython3",
   "version": "3.7.3"
  }
 },
 "nbformat": 4,
 "nbformat_minor": 2
}
