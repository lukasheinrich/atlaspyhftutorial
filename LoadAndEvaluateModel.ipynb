{
 "cells": [
  {
   "cell_type": "code",
   "execution_count": 1,
   "metadata": {},
   "outputs": [],
   "source": [
    "import pyhf\n",
    "import json\n",
    "import matplotlib.pyplot as plt\n",
    "%matplotlib inline"
   ]
  },
  {
   "cell_type": "code",
   "execution_count": 2,
   "metadata": {},
   "outputs": [
    {
     "name": "stdout",
     "output_type": "stream",
     "text": [
      "             Summary       \r\n",
      "       ------------------  \r\n",
      "          channels  1\r\n",
      "           samples  3\r\n",
      "        parameters  6\r\n",
      "         modifiers  6\r\n",
      "\r\n",
      "          channels  nbins\r\n",
      "        ----------  -----\r\n",
      "          channel1    2  \r\n",
      "\r\n",
      "           samples\r\n",
      "        ----------\r\n",
      "       background1\r\n",
      "       background2\r\n",
      "            signal\r\n",
      "\r\n",
      "        parameters  constraint              modifiers\r\n",
      "        ----------  ----------              ----------\r\n",
      "     SigXsecOverSM  unconstrained           normfactor\r\n",
      "              lumi  constrained_by_normal   lumi\r\n",
      "staterror_channel1  constrained_by_normal   staterror\r\n",
      "             syst1  constrained_by_normal   normsys\r\n",
      "             syst2  constrained_by_normal   normsys\r\n",
      "             syst3  constrained_by_normal   normsys\r\n",
      "\r\n",
      "       measurement           poi            parameters\r\n",
      "        ----------        ----------        ----------\r\n",
      "          (*) meas      SigXsecOverSM       lumi,alpha_syst1\r\n",
      "\r\n"
     ]
    }
   ],
   "source": [
    "!pyhf inspect example_workspace.json"
   ]
  },
  {
   "cell_type": "code",
   "execution_count": 3,
   "metadata": {},
   "outputs": [
    {
     "data": {
      "text/plain": [
       "{'channels': [{'name': 'channel1',\n",
       "   'samples': [{'data': [10.0, 5.0],\n",
       "     'modifiers': [{'data': None, 'name': 'lumi', 'type': 'lumi'},\n",
       "      {'data': {'hi': 1.05, 'lo': 0.95}, 'name': 'syst1', 'type': 'normsys'},\n",
       "      {'data': None, 'name': 'SigXsecOverSM', 'type': 'normfactor'}],\n",
       "     'name': 'signal'},\n",
       "    {'data': [10.0, 70.0],\n",
       "     'modifiers': [{'data': None, 'name': 'lumi', 'type': 'lumi'},\n",
       "      {'data': {'hi': 1.05, 'lo': 0.95}, 'name': 'syst2', 'type': 'normsys'}],\n",
       "     'name': 'background1'},\n",
       "    {'data': [40.0, 30.0],\n",
       "     'modifiers': [{'data': None, 'name': 'lumi', 'type': 'lumi'},\n",
       "      {'data': [6.324555320336759, 5.477225575051661],\n",
       "       'name': 'staterror_channel1',\n",
       "       'type': 'staterror'},\n",
       "      {'data': {'hi': 1.05, 'lo': 0.95}, 'name': 'syst3', 'type': 'normsys'}],\n",
       "     'name': 'background2'}]}],\n",
       " 'measurements': [{'config': {'parameters': [{'auxdata': [1.0],\n",
       "      'bounds': [[0.5, 1.5]],\n",
       "      'fixed': True,\n",
       "      'inits': [1.0],\n",
       "      'name': 'lumi',\n",
       "      'sigmas': [0.1]},\n",
       "     {'fixed': True, 'name': 'alpha_syst1'}],\n",
       "    'poi': 'SigXsecOverSM'},\n",
       "   'name': 'meas'}],\n",
       " 'observations': [{'data': [50.0, 100.0], 'name': 'channel1'}],\n",
       " 'version': '1.0.0'}"
      ]
     },
     "execution_count": 3,
     "metadata": {},
     "output_type": "execute_result"
    }
   ],
   "source": [
    "w = json.load(open('./example_workspace.json'))\n",
    "w"
   ]
  },
  {
   "cell_type": "code",
   "execution_count": 4,
   "metadata": {},
   "outputs": [
    {
     "data": {
      "text/plain": [
       "<pyhf.workspace.Workspace object at 0x125832d00>"
      ]
     },
     "execution_count": 4,
     "metadata": {},
     "output_type": "execute_result"
    }
   ],
   "source": [
    "ws = pyhf.Workspace(w)\n",
    "ws"
   ]
  },
  {
   "cell_type": "code",
   "execution_count": 5,
   "metadata": {},
   "outputs": [
    {
     "data": {
      "text/plain": [
       "<pyhf.pdf.Model at 0x125ad5e48>"
      ]
     },
     "execution_count": 5,
     "metadata": {},
     "output_type": "execute_result"
    }
   ],
   "source": [
    "model = ws.model()\n",
    "model"
   ]
  },
  {
   "cell_type": "code",
   "execution_count": 6,
   "metadata": {},
   "outputs": [
    {
     "data": {
      "text/plain": [
       "[1.0, 0.0, 1.0, 0.0, 1.0, 1.0, 0.0]"
      ]
     },
     "execution_count": 6,
     "metadata": {},
     "output_type": "execute_result"
    }
   ],
   "source": [
    "parameters = model.config.suggested_init()\n",
    "parameters"
   ]
  },
  {
   "cell_type": "code",
   "execution_count": 7,
   "metadata": {},
   "outputs": [
    {
     "name": "stdout",
     "output_type": "stream",
     "text": [
      "[ 60. 105.   1.   1.   1.   0.   0.   0.]\n",
      "[-5.88021974]\n"
     ]
    }
   ],
   "source": [
    "expected_data = model.expected_data(parameters)\n",
    "print(expected_data)\n",
    "\n",
    "log_pdfvalue = model.logpdf(parameters,expected_data)\n",
    "print(log_pdfvalue)"
   ]
  },
  {
   "cell_type": "code",
   "execution_count": 8,
   "metadata": {},
   "outputs": [
    {
     "data": {
      "text/plain": [
       "[50.0, 100.0, 1.0, 1.0, 1.0, 0.0, 0.0, 0.0]"
      ]
     },
     "execution_count": 8,
     "metadata": {},
     "output_type": "execute_result"
    }
   ],
   "source": [
    "observed = ws.data(model)\n",
    "observed"
   ]
  },
  {
   "cell_type": "code",
   "execution_count": 9,
   "metadata": {},
   "outputs": [
    {
     "data": {
      "text/plain": [
       "array([-6.76988707])"
      ]
     },
     "execution_count": 9,
     "metadata": {},
     "output_type": "execute_result"
    }
   ],
   "source": [
    "model.logpdf(parameters,observed)"
   ]
  },
  {
   "cell_type": "code",
   "execution_count": null,
   "metadata": {},
   "outputs": [],
   "source": []
  }
 ],
 "metadata": {
  "kernelspec": {
   "display_name": "Python 3",
   "language": "python",
   "name": "python3"
  },
  "language_info": {
   "codemirror_mode": {
    "name": "ipython",
    "version": 3
   },
   "file_extension": ".py",
   "mimetype": "text/x-python",
   "name": "python",
   "nbconvert_exporter": "python",
   "pygments_lexer": "ipython3",
   "version": "3.7.2"
  }
 },
 "nbformat": 4,
 "nbformat_minor": 2
}
